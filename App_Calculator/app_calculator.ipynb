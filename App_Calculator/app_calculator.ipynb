{
  "nbformat": 4,
  "nbformat_minor": 0,
  "metadata": {
    "colab": {
      "provenance": []
    },
    "kernelspec": {
      "name": "python3",
      "display_name": "Python 3"
    },
    "language_info": {
      "name": "python"
    }
  },
  "cells": [
    {
      "cell_type": "code",
      "execution_count": null,
      "metadata": {
        "colab": {
          "base_uri": "https://localhost:8080/"
        },
        "id": "m7muRzJXmfT8",
        "outputId": "aa346ef5-acac-4d75-e320-5953455e9765"
      },
      "outputs": [
        {
          "output_type": "stream",
          "name": "stdout",
          "text": [
            "Looking in indexes: https://pypi.org/simple, https://us-python.pkg.dev/colab-wheels/public/simple/\n",
            "\u001b[31mERROR: Could not find a version that satisfies the requirement tkinter (from versions: none)\u001b[0m\u001b[31m\n",
            "\u001b[0m\u001b[31mERROR: No matching distribution found for tkinter\u001b[0m\u001b[31m\n",
            "\u001b[0m"
          ]
        }
      ],
      "source": [
        "pip install tkinter"
      ]
    },
    {
      "cell_type": "code",
      "source": [
        "list1 = ['Gopal',8.59,256,'True',[1,2,3]]\n",
        "tuples =('Gopal',8.59,256,'True',[1,2,3])\n",
        "set={'Gopal', 'Heema' , 'Hardeep','Gopal'}\n",
        "dict1 = {'Name':'Hardeep', 'Roll no': '45'}"
      ],
      "metadata": {
        "id": "aZRQtUg5uniJ"
      },
      "execution_count": null,
      "outputs": []
    },
    {
      "cell_type": "code",
      "source": [
        "list1"
      ],
      "metadata": {
        "colab": {
          "base_uri": "https://localhost:8080/"
        },
        "id": "8mWskyuWxJdH",
        "outputId": "f547d1ee-2aa0-4ece-ffc5-5c785bc8812c"
      },
      "execution_count": null,
      "outputs": [
        {
          "output_type": "execute_result",
          "data": {
            "text/plain": [
              "['Gopal', 8.59, 256, 'True', [1, 2, 3]]"
            ]
          },
          "metadata": {},
          "execution_count": 21
        }
      ]
    },
    {
      "cell_type": "code",
      "source": [
        " print(list1,(0))"
      ],
      "metadata": {
        "colab": {
          "base_uri": "https://localhost:8080/"
        },
        "id": "TOH5yt05xgwR",
        "outputId": "d2be32e1-b3e8-4a1e-8aad-49dabcd41a19"
      },
      "execution_count": null,
      "outputs": [
        {
          "output_type": "stream",
          "name": "stdout",
          "text": [
            "['Gopal', 8.59, 256, 'True', [1, 2, 3]] 0\n"
          ]
        }
      ]
    },
    {
      "cell_type": "code",
      "source": [
        "set"
      ],
      "metadata": {
        "colab": {
          "base_uri": "https://localhost:8080/"
        },
        "id": "Vx_5ZzuCyFlV",
        "outputId": "83199b35-3b30-4891-d577-6291f2c81590"
      },
      "execution_count": null,
      "outputs": [
        {
          "output_type": "execute_result",
          "data": {
            "text/plain": [
              "{'Gopal', 'Hardeep', 'Heema'}"
            ]
          },
          "metadata": {},
          "execution_count": 25
        }
      ]
    },
    {
      "cell_type": "code",
      "source": [
        "dict1"
      ],
      "metadata": {
        "colab": {
          "base_uri": "https://localhost:8080/"
        },
        "id": "hp5zE01Ivbqq",
        "outputId": "c20704b6-ff7a-404b-ea43-85b656078c7d"
      },
      "execution_count": null,
      "outputs": [
        {
          "output_type": "execute_result",
          "data": {
            "text/plain": [
              "{'Name': 'Hardeep', 'Roll no': '45'}"
            ]
          },
          "metadata": {},
          "execution_count": 26
        }
      ]
    },
    {
      "cell_type": "code",
      "source": [
        " temp =[]\n",
        " temp1 =[]\n",
        " temp2 =[]\n",
        "for i in range(10):\n",
        "  a = i**2#a me save hui hai values\n",
        "  b = i\n",
        "  c = i**3\n",
        " temp.append(a)\n",
        " temp1.append(b)\n",
        " temp2.append(c)"
      ],
      "metadata": {
        "id": "ton9D0aLrnNW"
      },
      "execution_count": null,
      "outputs": []
    },
    {
      "cell_type": "code",
      "source": [
        "temp"
      ],
      "metadata": {
        "colab": {
          "base_uri": "https://localhost:8080/"
        },
        "id": "slehWt97s4Fo",
        "outputId": "d25c36fc-ac02-45e9-9bc4-fa71722a83a1"
      },
      "execution_count": null,
      "outputs": [
        {
          "output_type": "execute_result",
          "data": {
            "text/plain": [
              "[81]"
            ]
          },
          "metadata": {},
          "execution_count": 29
        }
      ]
    },
    {
      "cell_type": "code",
      "source": [
        "import matplotlib.pyplot as plt\n",
        "plt.plot(temp,temp1, temp,temp2)"
      ],
      "metadata": {
        "colab": {
          "base_uri": "https://localhost:8080/",
          "height": 465
        },
        "id": "6RDREfsls6vV",
        "outputId": "0b2b66ab-5b32-4118-b832-1cf136b78776"
      },
      "execution_count": null,
      "outputs": [
        {
          "output_type": "execute_result",
          "data": {
            "text/plain": [
              "[<matplotlib.lines.Line2D at 0x7fba9af7eef0>,\n",
              " <matplotlib.lines.Line2D at 0x7fba9af7ef50>]"
            ]
          },
          "metadata": {},
          "execution_count": 34
        },
        {
          "output_type": "display_data",
          "data": {
            "text/plain": [
              "<Figure size 640x480 with 1 Axes>"
            ],
            "image/png": "[encoded data removed]"
          },
          "metadata": {}
        }
      ]
    },
    {
      "cell_type": "code",
      "source": [
        "def add(a,b):\n",
        "  return(a,b)"
      ],
      "metadata": {
        "id": "CJkO-z2FyULQ"
      },
      "execution_count": null,
      "outputs": []
    },
    {
      "cell_type": "code",
      "source": [
        "add(250,557)"
      ],
      "metadata": {
        "colab": {
          "base_uri": "https://localhost:8080/"
        },
        "id": "5SJarRLY3pOr",
        "outputId": "64a3803b-7389-4ae6-d59c-e8f58d12fdf5"
      },
      "execution_count": null,
      "outputs": [
        {
          "output_type": "execute_result",
          "data": {
            "text/plain": [
              "(250, 557)"
            ]
          },
          "metadata": {},
          "execution_count": 33
        }
      ]
    },
    {
      "cell_type": "code",
      "source": [
        "from tkinter import *\n",
        "\n",
        "expression =\"\"\n",
        "\n",
        "def press(num):\n",
        "  global expression\n",
        "\n",
        "  #expression = expression + str(num) OR\n",
        "  expression += str(num)\n",
        "\n",
        "  equation.set(expression)#if u dont want to repeat value 1st do set method and then convert it to your value\n",
        "\n",
        "\n",
        "def equalpress():\n",
        "   try:\n",
        "    global expression\n",
        "    total = str(eval(expression))\n",
        "    equation.set(total)\n",
        "    expression = \"\"\n",
        "   except:\n",
        "\n",
        "      equation.set(\"Error\")\n",
        "\n",
        "      expression = \"\"\n",
        "\n",
        "\n",
        "def clear():\n",
        "    global expression\n",
        "\n",
        "    expression  =\"\"\n",
        "\n",
        "    equation.set(\"\")\n",
        "\n",
        "\n",
        "\n",
        "\n",
        "\n",
        "    if __name__ == \"__main__\":\n",
        "      gui = Tk()\n",
        "\n",
        "      gui.configure(background = 'black')\n",
        "\n",
        "      gui.title(\"Coders Ready\")\n",
        "\n",
        "      gui.geometry(\"270x150\")\n",
        "\n",
        "      equation = StringVar()\n",
        "\n",
        "\n",
        "      expression_fields = Enter(gui, textvariable = equation)\n",
        "\n",
        "      expression_field.grid(columnspan=4, ipadx=70)\n",
        "\n",
        "      button1 = Button(gui, text = \" 1 \" , fg='black', bg = 'red', \n",
        "                       command = lambda: press(1), height = 1 , width = 7)\n",
        "      button1.grid(row =2, column =0)\n",
        "\n",
        "      button2 = Button(gui, text = \" 1 \" , fg='black', bg = 'red', \n",
        "                       command = lambda: press(2), height = 1 , width = 7)\n",
        "      button2.grid(row =2, column =1)\n",
        "\n",
        "      button3 = Button(gui, text = \" 1 \" , fg='black', bg = 'red', \n",
        "                       command = lambda: press(3), height = 1 , width = 7)\n",
        "      button3.grid(row =2, column =2)\n",
        "\n",
        "      button4 = Button(gui, text = \" 1 \" , fg='black', bg = 'red', \n",
        "                       command = lambda: press(4), height = 1 , width = 7)\n",
        "      button4.grid(row =3, column =0)\n",
        "\n",
        "      button5 = Button(gui, text = \" 1 \" , fg='black', bg = 'red', \n",
        "                       command = lambda: press(5), height = 1 , width = 7)\n",
        "      button5.grid(row =3, column =1)\n",
        "\n",
        "      button6 = Button(gui, text = \" 1 \" , fg='black', bg = 'red', \n",
        "                       command = lambda: press(6), height = 1 , width = 7)\n",
        "      button6.grid(row =3, column =2)\n",
        "\n",
        "      button7 = Button(gui, text = \" 1 \" , fg='black', bg = 'red', \n",
        "                       command = lambda: press(7), height = 1 , width = 7)\n",
        "      button7.grid(row =4, column =0)\n",
        "\n",
        "      button8 = Button(gui, text = \" 1 \" , fg='black', bg = 'red', \n",
        "                       command = lambda: press(8), height = 1 , width = 7)\n",
        "      button8.grid(row =4, column =1)\n",
        "\n",
        "      button9 = Button(gui, text = \" 1 \" , fg='black', bg = 'red', \n",
        "                       command = lambda: press(9), height = 1 , width = 7)\n",
        "      button9.grid(row =4, column =2)\n",
        "\n",
        "      button0 = Button(gui, text = \" 1 \" , fg='black', bg = 'red', \n",
        "                       command = lambda: press(0),height=1 ,width=7) \n",
        "      plus = Button(gui, text= \"+\", fg ='black', bg ='red',\n",
        "                    command = lambda: press('+'), height =1 ,width =7)\n",
        "      plus.grid(row = 2,column = 3)\n",
        "      minus = Button(gui, text= \"-\", fg ='black', bg ='red',\n",
        "                    command = lambda: press('-'), height =1 ,width =7)\n",
        "      minus.grid(row = 3,column = 3)   \n",
        "      multiply = Button(gui, text= \"*\", fg ='black', bg ='red',\n",
        "                    command = lambda: press('*'), height =1 ,width =7)\n",
        "      multiply.grid(row = 4,column = 3) \n",
        "      divide = Button(gui, text= \"/\", fg ='black', bg ='red',\n",
        "                    command = lambda: press('/'), height =1 ,width =7)\n",
        "      divide.grid(row = 5,column = 3)   \n",
        "      equal = Button(gui, text= \"=\", fg ='black', bg ='red',\n",
        "                    command = lambda: press('='), height =1 ,width =7)\n",
        "      equal.grid(row = 5,column = 2)   \n",
        "      clear = Button(gui, text= \"Clear\", fg ='black', bg ='red',\n",
        "                    command = clear, height =1 ,width =7)\n",
        "      clear.grid(row = 5,column = 1)\n",
        "      decimal = Button(gui, text= \".\", fg ='black', bg ='red',\n",
        "                    command = lambda: press('.'), height =1 ,width =7)\n",
        "      decimal.grid(row = 6,column = 0)\n",
        "     #start mainloop\n",
        "      gui.mainloop()"
      ],
      "metadata": {
        "id": "I7TDeF_Bmopa"
      },
      "execution_count": 1,
      "outputs": []
    }
  ]
}