{
  "nbformat": 4,
  "nbformat_minor": 0,
  "metadata": {
    "colab": {
      "provenance": []
    },
    "kernelspec": {
      "name": "python3",
      "display_name": "Python 3"
    },
    "language_info": {
      "name": "python"
    }
  },
  "cells": [
    {
      "cell_type": "code",
      "execution_count": null,
      "metadata": {
        "colab": {
          "base_uri": "https://localhost:8080/"
        },
        "id": "Jo6kTPv5YiLt",
        "outputId": "89db662b-0176-4cac-bc58-b66a2f041f39"
      },
      "outputs": [
        {
          "output_type": "execute_result",
          "data": {
            "text/plain": [
              "20112"
            ]
          },
          "metadata": {},
          "execution_count": 1
        }
      ],
      "source": [
        "5678+7654+6780"
      ]
    },
    {
      "cell_type": "code",
      "source": [
        "print ('hello coders')"
      ],
      "metadata": {
        "colab": {
          "base_uri": "https://localhost:8080/"
        },
        "id": "xTNCk10Ea8q8",
        "outputId": "8fbc8e6e-ddf9-4391-9758-390fc7e62c6e"
      },
      "execution_count": null,
      "outputs": [
        {
          "output_type": "stream",
          "name": "stdout",
          "text": [
            "hello coders\n"
          ]
        }
      ]
    },
    {
      "cell_type": "code",
      "source": [
        "#K(#Keywords\n",
        "#(for,while,True,def,int,str,set,dict)\n",
        "#I (Identifier -  \n",
        "\n",
        "a = 1\n",
        "def sum(a,b):\n",
        "  apple = 78\n",
        "\n",
        "  class plots()"
      ],
      "metadata": {
        "id": "M1TLuGaWb0wV"
      },
      "execution_count": null,
      "outputs": []
    },
    {
      "cell_type": "code",
      "source": [
        "#identifier(to whom we assign a values like variable,class or object etc)\n",
        "\n",
        "#literals(values assigned to a variable or identifier)\n",
        "\n",
        "#operators(which links identifiers and literals)\n",
        "\n",
        "#punctuators, some example ( { []}), : ; ' \" ''' etc\n",
        "\n",
        "#here im using variable names and literals to explain about fundamental of python on friday 12/05/2023\n",
        "\n",
        "#Comments-not included in code but give info. about code"
      ],
      "metadata": {
        "id": "axP-XM6zfyz8"
      },
      "execution_count": null,
      "outputs": []
    },
    {
      "cell_type": "code",
      "source": [
        "a = 4\n",
        "b = 5\n",
        "c = True\n",
        "d = 3+5j\n",
        "e = None"
      ],
      "metadata": {
        "id": "qXf9VxC-lQY5"
      },
      "execution_count": null,
      "outputs": []
    },
    {
      "cell_type": "code",
      "source": [
        "type(c)"
      ],
      "metadata": {
        "colab": {
          "base_uri": "https://localhost:8080/"
        },
        "id": "dlkYsHiDlsg6",
        "outputId": "109d47a3-8645-44f4-ee71-c590b1f679d4"
      },
      "execution_count": null,
      "outputs": [
        {
          "output_type": "execute_result",
          "data": {
            "text/plain": [
              "bool"
            ]
          },
          "metadata": {},
          "execution_count": 6
        }
      ]
    },
    {
      "cell_type": "code",
      "source": [
        "id(b)"
      ],
      "metadata": {
        "colab": {
          "base_uri": "https://localhost:8080/"
        },
        "id": "_PmXrnarmKgW",
        "outputId": "6bbba70e-db73-484a-ab16-50c215f05c4a"
      },
      "execution_count": null,
      "outputs": [
        {
          "output_type": "execute_result",
          "data": {
            "text/plain": [
              "140078679196016"
            ]
          },
          "metadata": {},
          "execution_count": 7
        }
      ]
    },
    {
      "cell_type": "code",
      "source": [
        "'''kwmdoiewjdoew'''#using triple quotes we can bulk the code in comment"
      ],
      "metadata": {
        "id": "gCg9ixf_qP-t",
        "outputId": "4146d977-f871-4b4d-9c98-04acd97c44dc",
        "colab": {
          "base_uri": "https://localhost:8080/",
          "height": 35
        }
      },
      "execution_count": null,
      "outputs": [
        {
          "output_type": "execute_result",
          "data": {
            "text/plain": [
              "'kwmdoiewjdoew'"
            ],
            "application/vnd.google.colaboratory.intrinsic+json": {
              "type": "string"
            }
          },
          "metadata": {},
          "execution_count": 7
        }
      ]
    },
    {
      "cell_type": "code",
      "source": [
        "a = 5\n",
        "b = 8.5\n",
        "c = True\n",
        "d = None\n",
        "e = 3 + 4j\n",
        "type (c) \n"
      ],
      "metadata": {
        "colab": {
          "base_uri": "https://localhost:8080/"
        },
        "id": "iCt80v3Eo4ke",
        "outputId": "68a232f4-d849-45a4-b5d6-fdb426a1bfd0"
      },
      "execution_count": null,
      "outputs": [
        {
          "output_type": "execute_result",
          "data": {
            "text/plain": [
              "bool"
            ]
          },
          "metadata": {},
          "execution_count": 2
        }
      ]
    },
    {
      "cell_type": "code",
      "source": [
        "id(a)"
      ],
      "metadata": {
        "colab": {
          "base_uri": "https://localhost:8080/"
        },
        "id": "ByKjQFMmqApn",
        "outputId": "df9419be-f2fb-42d2-dbcc-da65d4530d40"
      },
      "execution_count": null,
      "outputs": [
        {
          "output_type": "execute_result",
          "data": {
            "text/plain": [
              "140078679196016"
            ]
          },
          "metadata": {},
          "execution_count": 3
        }
      ]
    },
    {
      "cell_type": "code",
      "source": [
        "a = 1\n",
        "def sum(a,b):\n",
        "  apple = 78"
      ],
      "metadata": {
        "id": "YVSP4xHr1XEt"
      },
      "execution_count": null,
      "outputs": []
    },
    {
      "cell_type": "code",
      "source": [
        "print(sum)"
      ],
      "metadata": {
        "colab": {
          "base_uri": "https://localhost:8080/"
        },
        "id": "2waW9pw21xUp",
        "outputId": "30bd0969-99fd-4f42-e5e8-178f8eda8a95"
      },
      "execution_count": null,
      "outputs": [
        {
          "output_type": "stream",
          "name": "stdout",
          "text": [
            "<function sum at 0x7f0df1723a30>\n"
          ]
        }
      ]
    }
  ]
}