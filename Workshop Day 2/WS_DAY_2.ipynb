{
  "nbformat": 4,
  "nbformat_minor": 0,
  "metadata": {
    "colab": {
      "provenance": []
    },
    "kernelspec": {
      "name": "python3",
      "display_name": "Python 3"
    },
    "language_info": {
      "name": "python"
    }
  },
  "cells": [
    {
      "cell_type": "code",
      "execution_count": 10,
      "metadata": {
        "colab": {
          "base_uri": "https://localhost:8080/"
        },
        "id": "Ae-oWBKBVrcA",
        "outputId": "152eb84a-e58c-4da4-b372-3a9f9d815651"
      },
      "outputs": [
        {
          "output_type": "stream",
          "name": "stdout",
          "text": [
            "<class 'int'>\n",
            "<class 'list'>\n",
            "<class 'tuple'>\n",
            "<class 'dict'>\n"
          ]
        }
      ],
      "source": [
        "print(type(1))#integer (1,2,3....)\n",
        "print(type([]))#list data type\n",
        "print(type(()))#tuple every value is in quotes('gopal','krishan')\n",
        "print(type({}))#for dictionary (blue part describes nature    )"
      ]
    },
    {
      "cell_type": "code",
      "source": [
        "class sample:\n",
        "   pass\n",
        "x = sample() #(instance value)\n",
        "print(type(x))"
      ],
      "metadata": {
        "colab": {
          "base_uri": "https://localhost:8080/"
        },
        "id": "2sJinyfeWztp",
        "outputId": "d485c38f-e686-4939-ca33-86e0ac0d2324"
      },
      "execution_count": 11,
      "outputs": [
        {
          "output_type": "stream",
          "name": "stdout",
          "text": [
            "<class '__main__.sample'>\n"
          ]
        }
      ]
    },
    {
      "cell_type": "code",
      "source": [
        "class Dog:\n",
        "  def __init__(self,breed):#argument or attribute ko initialise krne ke liye init method use kiya\n",
        "    self.breed = breed \n",
        "\n",
        "sam = Dog(breed = 'Lab')\n",
        "frank = Dog(breed = 'Huskie')"
      ],
      "metadata": {
        "id": "SXtgekqpXZdS"
      },
      "execution_count": 12,
      "outputs": []
    },
    {
      "cell_type": "code",
      "source": [
        " sam.breed"
      ],
      "metadata": {
        "colab": {
          "base_uri": "https://localhost:8080/",
          "height": 35
        },
        "id": "8COS3DozYR78",
        "outputId": "c5155f0a-853c-4518-fb5c-799501d1cf2c"
      },
      "execution_count": 13,
      "outputs": [
        {
          "output_type": "execute_result",
          "data": {
            "text/plain": [
              "'Lab'"
            ],
            "application/vnd.google.colaboratory.intrinsic+json": {
              "type": "string"
            }
          },
          "metadata": {},
          "execution_count": 13
        }
      ]
    },
    {
      "cell_type": "code",
      "source": [
        "frank.breed"
      ],
      "metadata": {
        "colab": {
          "base_uri": "https://localhost:8080/",
          "height": 35
        },
        "id": "gC6E0ZzsYosD",
        "outputId": "9858a422-8fcc-460d-ce4b-d5b6765a2244"
      },
      "execution_count": 14,
      "outputs": [
        {
          "output_type": "execute_result",
          "data": {
            "text/plain": [
              "'Huskie'"
            ],
            "application/vnd.google.colaboratory.intrinsic+json": {
              "type": "string"
            }
          },
          "metadata": {},
          "execution_count": 14
        }
      ]
    },
    {
      "cell_type": "code",
      "source": [
        "class circle:\n",
        "  pi = 3.14\n",
        "  def __init__(self,radius = 1):#argument ko initialise krwane ke liye\n",
        "    self.radius = radius\n",
        "    self.area = radius*radius *circle.pi\n",
        "\n",
        "  def setradius(self, new_radius):#to reset radius we use set method\n",
        "    self.radius = new_radius\n",
        "    self.area = new_radius *new_radius*self.pi \n",
        "\n",
        "  def getcircumference(self):#to get circumference\n",
        "    return self.radius * self.pi *2\n",
        "\n",
        "c = circle()\n",
        "\n",
        "print( 'Radius is : ' , c.radius)\n",
        "\n",
        "print('Area is : ', c.area)\n",
        "\n",
        "print('Circumference is: ',c.getcircumference())"
      ],
      "metadata": {
        "colab": {
          "base_uri": "https://localhost:8080/"
        },
        "id": "lgaw5lKqYxkd",
        "outputId": "5aaa4f7d-0050-460c-db0c-fc5179d2cb0e"
      },
      "execution_count": 15,
      "outputs": [
        {
          "output_type": "stream",
          "name": "stdout",
          "text": [
            "Radius is :  1\n",
            "Area is :  3.14\n",
            "Circumference is:  6.28\n"
          ]
        }
      ]
    },
    {
      "cell_type": "code",
      "source": [
        "c.setradius(2)\n",
        "print('Radius is =  ', c.radius)\n",
        "print('Area is =  ', c.area)\n",
        "print('Circumference is:  ', c.getcircumference)"
      ],
      "metadata": {
        "colab": {
          "base_uri": "https://localhost:8080/"
        },
        "id": "y_mvgLFgc8bK",
        "outputId": "5b27bc06-0d1a-4ee5-dc5c-4620682b6660"
      },
      "execution_count": 16,
      "outputs": [
        {
          "output_type": "stream",
          "name": "stdout",
          "text": [
            "Radius is =   2\n",
            "Area is =   12.56\n",
            "Circumference is:   <bound method circle.getcircumference of <__main__.circle object at 0x7fe57157a4a0>>\n"
          ]
        }
      ]
    },
    {
      "cell_type": "code",
      "source": [
        "from inspect import CO_OPTIMIZED\n",
        "class track:\n",
        "  def __init__(self , coor1,coor2):\n",
        "    self.coor1 = coor1\n",
        "    self.coor2 = coor2\n",
        "\n",
        "  def distance(self):\n",
        "       x1,y1 = self.coor1\n",
        "       x2,y2 = self.coor2\n",
        "       return ((x2-x1) ** 2-(y2-y1)**2)**0.5\n",
        "\n",
        "  def slope(self):\n",
        "      x1,y1 = self.coor1\n",
        "      x2,y2 = self.coor2\n",
        "      return(y2-y1)/(x2-x1)"
      ],
      "metadata": {
        "id": "x-ldgqw7djln"
      },
      "execution_count": 17,
      "outputs": []
    },
    {
      "cell_type": "code",
      "source": [
        "c1 = (4,9)\n",
        "c2 = (9,12)\n"
      ],
      "metadata": {
        "id": "xIWSPuFWfBw9"
      },
      "execution_count": 18,
      "outputs": []
    },
    {
      "cell_type": "code",
      "source": [
        "find = track(c1,c2)"
      ],
      "metadata": {
        "id": "-bw9wxbwfHb-"
      },
      "execution_count": 19,
      "outputs": []
    },
    {
      "cell_type": "code",
      "source": [
        "find.distance()"
      ],
      "metadata": {
        "colab": {
          "base_uri": "https://localhost:8080/"
        },
        "id": "45Lq8ikefMWu",
        "outputId": "a10678f7-3fb9-4a31-e445-f4c704e3d48d"
      },
      "execution_count": 20,
      "outputs": [
        {
          "output_type": "execute_result",
          "data": {
            "text/plain": [
              "4.0"
            ]
          },
          "metadata": {},
          "execution_count": 20
        }
      ]
    },
    {
      "cell_type": "code",
      "source": [
        "find.slope()"
      ],
      "metadata": {
        "colab": {
          "base_uri": "https://localhost:8080/"
        },
        "id": "Q5DjJdQffxY-",
        "outputId": "4285b4e5-9f46-47c1-82f9-1cc135108781"
      },
      "execution_count": 21,
      "outputs": [
        {
          "output_type": "execute_result",
          "data": {
            "text/plain": [
              "0.6"
            ]
          },
          "metadata": {},
          "execution_count": 21
        }
      ]
    },
    {
      "cell_type": "code",
      "source": [
        "class Account:\n",
        "  def __init__(self,owner,balance = 0):\n",
        "      self.owner = owner\n",
        "      self.balance = balance\n",
        "  def __str__(self):\n",
        "      return f'Account owner:  (self.owner)' 'Account balance: {self,balance}'\n",
        "\n",
        "  def deposit(self,dep_amt):\n",
        "      self.balance += dep_amt\n",
        "      print(\"Deposit Accepted\")\n",
        "  \n",
        "\n",
        "  def withdraw(self,wd_amt):\n",
        "      if self.balance >= wd_amt:\n",
        "        self.balance -= wd_amt\n",
        "        print('Withdrawal Accepted')\n",
        "\n",
        "\n",
        "      else:\n",
        "        print('Fund Unavailble')\n"
      ],
      "metadata": {
        "id": "Gk-XL4pXfPHX"
      },
      "execution_count": 40,
      "outputs": []
    },
    {
      "cell_type": "code",
      "source": [
        "acc1 = Account('Hitesh', 20000)"
      ],
      "metadata": {
        "id": "QdO2ImNyjeFI"
      },
      "execution_count": 23,
      "outputs": []
    },
    {
      "cell_type": "code",
      "source": [
        "acc1.owner"
      ],
      "metadata": {
        "colab": {
          "base_uri": "https://localhost:8080/",
          "height": 35
        },
        "id": "tQeV_QsLjt5u",
        "outputId": "1450ae95-3166-4ea2-ee2f-46f743e4f0ba"
      },
      "execution_count": null,
      "outputs": [
        {
          "output_type": "execute_result",
          "data": {
            "text/plain": [
              "'Hitesh'"
            ],
            "application/vnd.google.colaboratory.intrinsic+json": {
              "type": "string"
            }
          },
          "metadata": {},
          "execution_count": 52
        }
      ]
    },
    {
      "cell_type": "code",
      "source": [
        "acc1.deposit(100)"
      ],
      "metadata": {
        "colab": {
          "base_uri": "https://localhost:8080/"
        },
        "id": "x362lwPUjxsZ",
        "outputId": "aa7699d8-16c2-423b-a792-8eb3f5540da7"
      },
      "execution_count": null,
      "outputs": [
        {
          "output_type": "stream",
          "name": "stdout",
          "text": [
            "Deposit Accepted\n"
          ]
        }
      ]
    },
    {
      "cell_type": "code",
      "source": [
        "acc1.balance"
      ],
      "metadata": {
        "colab": {
          "base_uri": "https://localhost:8080/"
        },
        "id": "ZOWo7hD3j8bz",
        "outputId": "9fc65b51-2e09-45a8-a307-29e28d249280"
      },
      "execution_count": null,
      "outputs": [
        {
          "output_type": "execute_result",
          "data": {
            "text/plain": [
              "2100"
            ]
          },
          "metadata": {},
          "execution_count": 61
        }
      ]
    },
    {
      "cell_type": "code",
      "source": [
        "acc1.withdraw(30000)"
      ],
      "metadata": {
        "colab": {
          "base_uri": "https://localhost:8080/"
        },
        "id": "-vgmGxNwkF1Q",
        "outputId": "383b1e1d-dd39-4bcb-f9bb-05037859f9e6"
      },
      "execution_count": null,
      "outputs": [
        {
          "output_type": "stream",
          "name": "stdout",
          "text": [
            "Fund Unavailble\n"
          ]
        }
      ]
    },
    {
      "cell_type": "code",
      "source": [
        "acc1.withdraw(18000)"
      ],
      "metadata": {
        "colab": {
          "base_uri": "https://localhost:8080/"
        },
        "id": "U64fPYeakQxQ",
        "outputId": "18ac63ff-ed00-42b0-8977-89579d2590f3"
      },
      "execution_count": null,
      "outputs": [
        {
          "output_type": "stream",
          "name": "stdout",
          "text": [
            "Fund Unavailble\n"
          ]
        }
      ]
    },
    {
      "cell_type": "code",
      "source": [
        "acc1.balance"
      ],
      "metadata": {
        "colab": {
          "base_uri": "https://localhost:8080/"
        },
        "id": "H1S0WMBCkW8J",
        "outputId": "db2b9b2d-dccd-4366-d724-527747b1a3c8"
      },
      "execution_count": null,
      "outputs": [
        {
          "output_type": "execute_result",
          "data": {
            "text/plain": [
              "2100"
            ]
          },
          "metadata": {},
          "execution_count": 64
        }
      ]
    }
  ]
}